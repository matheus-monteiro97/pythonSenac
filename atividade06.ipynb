{
 "cells": [
  {
   "cell_type": "code",
   "execution_count": 1,
   "metadata": {},
   "outputs": [
    {
     "name": "stdout",
     "output_type": "stream",
     "text": [
      "\n",
      "Quantidade de números pares: 6\n",
      "Quantidade de números ímpares: 4\n"
     ]
    }
   ],
   "source": [
    "# Inicializando contadores\n",
    "count_pares = 0\n",
    "count_impares = 0\n",
    "\n",
    "# Solicitando os 10 números inteiros\n",
    "for i in range(10):\n",
    "    numero = int(input(f\"Digite o {i+1}º número inteiro: \"))\n",
    "    \n",
    "    # Verificando se o número é par ou ímpar\n",
    "    if numero % 2 == 0:\n",
    "        count_pares += 1\n",
    "    else:\n",
    "        count_impares += 1\n",
    "\n",
    "# Exibindo os resultados\n",
    "print(f\"\\nQuantidade de números pares: {count_pares}\")\n",
    "print(f\"Quantidade de números ímpares: {count_impares}\")\n"
   ]
  }
 ],
 "metadata": {
  "kernelspec": {
   "display_name": "Python 3",
   "language": "python",
   "name": "python3"
  },
  "language_info": {
   "codemirror_mode": {
    "name": "ipython",
    "version": 3
   },
   "file_extension": ".py",
   "mimetype": "text/x-python",
   "name": "python",
   "nbconvert_exporter": "python",
   "pygments_lexer": "ipython3",
   "version": "3.12.3"
  }
 },
 "nbformat": 4,
 "nbformat_minor": 2
}
