{
 "cells": [
  {
   "cell_type": "code",
   "execution_count": 9,
   "metadata": {},
   "outputs": [
    {
     "name": "stdout",
     "output_type": "stream",
     "text": [
      "Vem pra aula pra ganhar cupom\n"
     ]
    }
   ],
   "source": [
    "#Primeiro exemplo\n",
    "# name= input(\"Digite seu nome\")\n",
    "# idade= input (\"Digite sua idade\")\n",
    "# print(\"Seu nome é\", name, \"e sua idade é:\", idade)\n",
    "\n",
    "#Segundo exemplo\n",
    "# valor1= input(\"Digite um número inteiro\")\n",
    "# valor2= input(\"Digite um outro numero inteiro\")\n",
    "\n",
    "# print(valor1 == valor2)\n",
    "# print(valor1 > valor2)\n",
    "# print(valor1 < valor2)\n",
    "# print(valor1 >= valor2)\n",
    "# print(valor1 <= valor2)\n",
    "\n",
    "# Terceiro exemplo: Conectivo\n",
    "# numero= 10\n",
    "# print(numero >0 and numero <10)\n",
    "# print(numero >0 or numero <10)\n",
    "\n",
    "# Quarto exemplo: Condicional (IF e ELSE)\n",
    "# senhaCorreta= \"Teste1\"\n",
    "# senhaDigitada= input(\"Digite sua senha:\")\n",
    "\n",
    "# if (senhaCorreta == senhaDigitada):\n",
    "#     print(\"Bem vindo a aplicação\")\n",
    "# else:\n",
    "#     print(\"Senha incorreta\")\n",
    "\n",
    "# Quinto exemplo:\n",
    "# numero= int (input(\"Digite um número inteiro\"))\n",
    "\n",
    "# if (numero % 2 == 0):\n",
    "#     print(\"Esse número é par\", numero)\n",
    "# else:\n",
    "#     print(\"Esse número é impar\", numero)\n",
    "\n",
    "# Sexto Exemplo:\n",
    "cupom= input(\"digite o cupom\")\n",
    "if (cupom == \"aula1\" or cupom == \"aula2\"):\n",
    "    print (\"Você ganhou 10% de desconto\")\n",
    "else:\n",
    "    print(\"Vem pra aula pra ganhar cupom\")\n",
    "\n",
    "\n",
    "\n",
    "\n",
    "\n",
    "\n"
   ]
  }
 ],
 "metadata": {
  "kernelspec": {
   "display_name": "Python 3",
   "language": "python",
   "name": "python3"
  },
  "language_info": {
   "codemirror_mode": {
    "name": "ipython",
    "version": 3
   },
   "file_extension": ".py",
   "mimetype": "text/x-python",
   "name": "python",
   "nbconvert_exporter": "python",
   "pygments_lexer": "ipython3",
   "version": "3.11.8"
  }
 },
 "nbformat": 4,
 "nbformat_minor": 2
}
