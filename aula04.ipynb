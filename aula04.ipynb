{
 "cells": [
  {
   "cell_type": "code",
   "execution_count": 7,
   "metadata": {},
   "outputs": [
    {
     "name": "stdout",
     "output_type": "stream",
     "text": [
      "O valor do seu carro é: 10000.0 e o valor do imposto é: 150.0\n"
     ]
    }
   ],
   "source": [
    "carroAno = int (input(\"Escreva o ano em que seu carro foi fabricado\"))\n",
    "carroValor = float(input(\"Qual o valor de seu carro?\"))\n",
    "\n",
    "if carroAno <= 1990:\n",
    "    imposto= carroValor * 0.01\n",
    "else:\n",
    "    imposto= carroValor * 0.015\n",
    "\n",
    "print(\"O valor do seu carro é:\", carroValor, \"e o valor do imposto é:\", imposto)"
   ]
  },
  {
   "cell_type": "code",
   "execution_count": 12,
   "metadata": {},
   "outputs": [
    {
     "name": "stdout",
     "output_type": "stream",
     "text": [
      "Sua função é: Indefinida e seu salario atual é: 5000.0 . Você recebeu um aumento de: 2000.0 e agora seu salário é: 7000.0\n"
     ]
    }
   ],
   "source": [
    "cargo= int(input(\"Digite o código de sua função. 101 para Gerente, 102 para Engenheiro e 103 Técnico\"))\n",
    "salario= float(input(\"Qual o seu salário?\"))\n",
    "\n",
    "if cargo == 101:\n",
    "    funcao= \"Gerente\"\n",
    "    aumento= salario * 0.1\n",
    "elif cargo == 102:\n",
    "    funcao= \"Engenheiro\"\n",
    "    aumento= salario * 0.2\n",
    "elif cargo == 103:\n",
    "    funcao= \"Técnico\"\n",
    "    aumento= salario * 0.3\n",
    "else:\n",
    "    funcao= \"Indefinida\"\n",
    "    aumento= salario * 0.4\n",
    "\n",
    "salarioAtual= salario + aumento\n",
    "\n",
    "print (\"Sua função é:\", funcao, \"e seu salario atual é:\", salario, \". Você recebeu um aumento de:\", aumento, \"e agora seu salário é:\", salarioAtual)"
   ]
  }
 ],
 "metadata": {
  "kernelspec": {
   "display_name": "Python 3",
   "language": "python",
   "name": "python3"
  },
  "language_info": {
   "codemirror_mode": {
    "name": "ipython",
    "version": 3
   },
   "file_extension": ".py",
   "mimetype": "text/x-python",
   "name": "python",
   "nbconvert_exporter": "python",
   "pygments_lexer": "ipython3",
   "version": "3.11.9"
  }
 },
 "nbformat": 4,
 "nbformat_minor": 2
}
