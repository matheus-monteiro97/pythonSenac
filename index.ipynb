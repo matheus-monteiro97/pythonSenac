{
 "cells": [
  {
   "cell_type": "code",
   "execution_count": 30,
   "metadata": {},
   "outputs": [
    {
     "name": "stdout",
     "output_type": "stream",
     "text": [
      "14\n"
     ]
    }
   ],
   "source": [
    "pessoa= \"Matheus\"\n",
    "idade= 26\n",
    "altura= 1.70\n",
    "dev= True\n",
    "cpf= \"000.000.000-00\"\n",
    "rg= \"00.000.000\"\n",
    "\n",
    "pessoa= \"Josefa\"\n",
    "idade2= 28\n",
    "altura= 1.50\n",
    "dev= False\n",
    "cpf= \"000.000.000-00\"\n",
    "rg= \"00.000.000\"\n",
    "\n",
    "mult= 2 *(idade + idade2)\n",
    "\n",
    "\n",
    "\n",
    "divisao= 28 // 2 \n",
    "\n",
    "print(divisao)\n",
    "\n"
   ]
  }
 ],
 "metadata": {
  "kernelspec": {
   "display_name": "Python 3",
   "language": "python",
   "name": "python3"
  },
  "language_info": {
   "codemirror_mode": {
    "name": "ipython",
    "version": 3
   },
   "file_extension": ".py",
   "mimetype": "text/x-python",
   "name": "python",
   "nbconvert_exporter": "python",
   "pygments_lexer": "ipython3",
   "version": "3.11.8"
  }
 },
 "nbformat": 4,
 "nbformat_minor": 2
}
