{
 "cells": [
  {
   "cell_type": "code",
   "execution_count": 9,
   "metadata": {},
   "outputs": [
    {
     "name": "stdout",
     "output_type": "stream",
     "text": [
      "O resultado de o produto do dobro do primeiro com metade do segundo é: 100.0\n",
      "A soma do triplo do primeiro com o terceiro elevado ao cubo é: 1030.0\n"
     ]
    }
   ],
   "source": [
    "# Solicitar 2 números do tipo int e um do tipo float\n",
    "\n",
    "num1 = int(input(\"Escreva o primeiro número para a operação\"))\n",
    "num2 = int(input(\"Escreva o segundo número para a operação\"))\n",
    "num3 = float(input(\"Escreva o terceiro número para a operação\"))\n",
    "\n",
    "# O produto do dobro do primeiro com metade do segundo.\n",
    "operacao1 = (num1 * 2) * (num2 / 2)\n",
    "print (\"O resultado de o produto do dobro do primeiro com metade do segundo é:\", operacao1)\n",
    "\n",
    "# A soma do triplo do primeiro com o terceiro elevado ao cubo.\n",
    "operacao2 = (num1 * 3) + (num3 ** 3)\n",
    "# Poderia ser usado para a elevação também a função pow(num3, 3)\n",
    "print (\"A soma do triplo do primeiro com o terceiro elevado ao cubo é:\", operacao2)"
   ]
  },
  {
   "cell_type": "code",
   "execution_count": 8,
   "metadata": {},
   "outputs": [
    {
     "name": "stdout",
     "output_type": "stream",
     "text": [
      "O maior número é: 5.0\n"
     ]
    }
   ],
   "source": [
    "#Solicitação de dois números para realizar a verificação de qual é o maior. \n",
    "num1 = float(input(\"Escreva o primeiro número\"))\n",
    "num2 = float(input(\"Escreva o segundo número\"))\n",
    "\n",
    "# Verificação com ternário\n",
    "maiorNum = num1 if num1 > num2 else num2\n",
    "\n",
    "print (\"O maior número é:\", maiorNum)"
   ]
  },
  {
   "cell_type": "code",
   "execution_count": 14,
   "metadata": {},
   "outputs": [
    {
     "name": "stdout",
     "output_type": "stream",
     "text": [
      "O número 10.0 é positivo\n"
     ]
    }
   ],
   "source": [
    "#Solicitação de número para verificação\n",
    "num = float(input(\"Escreva qualquer número que desejar\"))\n",
    "\n",
    "# Verificação se o número é positivo, negativo ou zero\n",
    "if num > 0:\n",
    "    print (f\"O número {num} é positivo\")\n",
    "elif num < 0:\n",
    "    print (f\"O número {num} é negativo\")\n",
    "else:\n",
    "    #Template String\n",
    "    print (f\"O número {num} é zero e não pode ser negativo ou positivo\")\n",
    "# Uma das possibilidades seria usar um ternário aninhado."
   ]
  },
  {
   "cell_type": "code",
   "execution_count": 16,
   "metadata": {},
   "outputs": [
    {
     "name": "stdout",
     "output_type": "stream",
     "text": [
      "O aluno foi reprovado\n"
     ]
    }
   ],
   "source": [
    "# Programa para calculo da media de um aluno, solicitação de duas notas para verificação.\n",
    "nota1= float(input(\"Qual a primeira nota do aluno?\"))\n",
    "nota2= float(input(\"Qual a segunda nota do aluno?\"))\n",
    "\n",
    "media= (nota1 + nota2) / 2\n",
    "\n",
    "feedback= \"aprovado\" if media >= 7 else \"reprovado\"\n",
    "\n",
    "print (f\"O aluno foi {feedback}\")"
   ]
  },
  {
   "cell_type": "code",
   "execution_count": 21,
   "metadata": {},
   "outputs": [
    {
     "name": "stdout",
     "output_type": "stream",
     "text": [
      "O maior número é: 7.0\n"
     ]
    }
   ],
   "source": [
    "#Solicitação de 3 números para operação\n",
    "num1= float(input(\"Digite o primeiro número\"))\n",
    "num2= float(input(\"Digite o segundo número\"))\n",
    "num3= float(input(\"Digite o terceiro número\"))\n",
    "\n",
    "#Verificação do maior número:\n",
    "if num1 > num2 and num1 > num3:\n",
    "    verificador= num1\n",
    "elif num2 > num3:\n",
    "    verificador= num2\n",
    "else:\n",
    "    verificador= num3\n",
    "# Poderia usar também a função max, ficando: verificador= max(num1, num2, num3)\n",
    "\n",
    "print (f\"O maior número é: {verificador}\")"
   ]
  }
 ],
 "metadata": {
  "kernelspec": {
   "display_name": "Python 3",
   "language": "python",
   "name": "python3"
  },
  "language_info": {
   "codemirror_mode": {
    "name": "ipython",
    "version": 3
   },
   "file_extension": ".py",
   "mimetype": "text/x-python",
   "name": "python",
   "nbconvert_exporter": "python",
   "pygments_lexer": "ipython3",
   "version": "3.11.9"
  }
 },
 "nbformat": 4,
 "nbformat_minor": 2
}
