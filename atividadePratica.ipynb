{
 "cells": [
  {
   "cell_type": "code",
   "execution_count": 2,
   "metadata": {},
   "outputs": [
    {
     "name": "stdout",
     "output_type": "stream",
     "text": [
      "Sua letra é r e ela é consoante\n"
     ]
    }
   ],
   "source": [
    "# Questão 1: Primeiro armazenei as vogais em um array, seja maiuscula e minuscula. \n",
    "vogais= ['a', 'A', 'e', 'E', 'i', 'I', 'o', 'O', 'u', 'U']\n",
    "\n",
    "letra = input('Digite uma letra para verificar se é vogal ou consoante')\n",
    "\n",
    "# Verifica se a quantidade de letras é igual a 1\n",
    "if len(letra) > 1:\n",
    "    print('Por favor, digite apenas uma letra')\n",
    "# Faz agora a verificação se é vogal ou consoante.\n",
    "elif letra in vogais:\n",
    "    print ('Sua letra é ', letra, 'e ela é vogal.')\n",
    "else:\n",
    "    print('Sua letra é', letra, 'e ela é consoante')"
   ]
  },
  {
   "cell_type": "code",
   "execution_count": 6,
   "metadata": {},
   "outputs": [
    {
     "name": "stdout",
     "output_type": "stream",
     "text": [
      "Celular 3 é o mais barato e é o que você deve comprar, custando: 10.0\n"
     ]
    }
   ],
   "source": [
    "# Questão 2: Pede os valores do celular.\n",
    "celular1= float(input('Digite o valor do primeiro celular'))\n",
    "celular2= float(input('Digite o valor do segundo celular'))\n",
    "celular3= float(input('Digite o valor do terceiro celular'))\n",
    "\n",
    "# Verifica 1 por vez, comparando com os outros 2, caso fuja da logica significa que pelo menos 2 possuem o mesmo valor. \n",
    "if celular1 < celular2 and celular1 < celular3:\n",
    "    print('Celular 1 é o mais barato e é o que você deve comprar, custando:', celular1)\n",
    "elif celular2 < celular1 and celular2 < celular3:\n",
    "    print('Celular 2 é o mais barato e é o que você deve comprar, custando:', celular2)\n",
    "elif celular3 < celular1 and celular3 < celular2:\n",
    "    print('Celular 3 é o mais barato e é o que você deve comprar, custando:', celular3)\n",
    "else:\n",
    "    print('Existem pelo menos 2 celulares com o mesmo preço')"
   ]
  },
  {
   "cell_type": "code",
   "execution_count": null,
   "metadata": {},
   "outputs": [],
   "source": [
    "# Questão 3: Leitura de três números\n",
    "num1 = float(input(\"Digite o primeiro número: \"))\n",
    "num2 = float(input(\"Digite o segundo número: \"))\n",
    "num3 = float(input(\"Digite o terceiro número: \"))\n",
    "\n",
    "# Organização dos números em ordem decrescente\n",
    "# Ler os três números\n",
    "if num1 >= num2 >= num3:  # Verifica se num1 é o maior, depois num2 e num3\n",
    "    print(num1, num2, num3)\n",
    "elif num1 >= num3 >= num2:  # Verifica se num1 é o maior, depois num3 e num2\n",
    "    print(num1, num3, num2)\n",
    "elif num2 >= num1 >= num3:  # Verifica se num2 é o maior, depois num1 e num3\n",
    "    print(num2, num1, num3)\n",
    "elif num2 >= num3 >= num1:  # Verifica se num2 é o maior, depois num3 e num1\n",
    "    print(num2, num3, num1)\n",
    "elif num3 >= num1 >= num2:  # Verifica se num3 é o maior, depois num1 e num2\n",
    "    print(num3, num1, num2)\n",
    "else:  # Se nada for verdadeiro, num3 é o maior, depois num2 e num1\n",
    "    print(num3, num2, num1)\n",
    "\n"
   ]
  },
  {
   "cell_type": "code",
   "execution_count": 10,
   "metadata": {},
   "outputs": [
    {
     "name": "stdout",
     "output_type": "stream",
     "text": [
      "Letra informada não condiz com as opções.\n"
     ]
    }
   ],
   "source": [
    "# Questão 4: letra para representando o turno.\n",
    "turno= input('Digite uma letra representando seu turno: M para matutino, V para vespertino e N para noturno')\n",
    "\n",
    "# Verifica cada letra de acordo com o turno, coloquei para verificação tanto maiuscula quanto minuscula.\n",
    "if turno == 'N' or turno == 'n':\n",
    "    print('Boa noite')\n",
    "elif turno == 'V' or turno == 'v':\n",
    "    print('Boa tarde')\n",
    "elif turno == 'M' or turno == 'm':\n",
    "    print('Bom dia')\n",
    "else:\n",
    "    print('Letra informada não condiz com as opções.')"
   ]
  },
  {
   "cell_type": "code",
   "execution_count": null,
   "metadata": {},
   "outputs": [],
   "source": [
    "# Questão 5: Ler o número do usuário\n",
    "numero = int(input(\"Digite um número de 1 a 7: \"))\n",
    "\n",
    "# Verifica o número e imprime o dia da semana correspondente\n",
    "if numero == 1:\n",
    "    print(\"Domingo\")\n",
    "elif numero == 2:\n",
    "    print(\"Segunda-feira\")\n",
    "elif numero == 3:\n",
    "    print(\"Terça-feira\")\n",
    "elif numero == 4:\n",
    "    print(\"Quarta-feira\")\n",
    "elif numero == 5:\n",
    "    print(\"Quinta-feira\")\n",
    "elif numero == 6:\n",
    "    print(\"Sexta-feira\")\n",
    "elif numero == 7:\n",
    "    print(\"Sábado\")\n",
    "else:\n",
    "    print(\"Número inválido. Por favor, digite um número de 1 a 7.\")\n"
   ]
  },
  {
   "cell_type": "code",
   "execution_count": null,
   "metadata": {},
   "outputs": [],
   "source": [
    "#Questão 7 Ler o número correspondente a um ano\n",
    "ano = int(input(\"Digite o ano: \"))\n",
    "\n",
    "# Verificar se é bissexto, ele é considerado se for divisvel por 4 e não seja divisel por 100, ou se ele for divisivel por 400.\n",
    "# Poderia também usar o elif ou invés do or\n",
    "if (ano % 4 == 0 and ano % 100 != 0) or ano % 400 == 0:\n",
    "    print(ano, \"é um ano bissexto.\")\n",
    "else:\n",
    "    print(ano, \"não é um ano bissexto.\")\n"
   ]
  },
  {
   "cell_type": "code",
   "execution_count": 13,
   "metadata": {},
   "outputs": [
    {
     "name": "stdout",
     "output_type": "stream",
     "text": [
      "Sua idade é 140\n"
     ]
    }
   ],
   "source": [
    "# Questão 9: Pede a idade da pessoa \n",
    "idade= int(input('Digite sua idade'))\n",
    "\n",
    "# Verifica se é negativo ou maior que 150\n",
    "if idade > 150 or idade < 0:\n",
    "    print('Por favor, digite uma idade válida')\n",
    "else:\n",
    "    print('Sua idade é', idade)"
   ]
  }
 ],
 "metadata": {
  "kernelspec": {
   "display_name": "Python 3",
   "language": "python",
   "name": "python3"
  },
  "language_info": {
   "codemirror_mode": {
    "name": "ipython",
    "version": 3
   },
   "file_extension": ".py",
   "mimetype": "text/x-python",
   "name": "python",
   "nbconvert_exporter": "python",
   "pygments_lexer": "ipython3",
   "version": "3.11.9"
  }
 },
 "nbformat": 4,
 "nbformat_minor": 2
}
