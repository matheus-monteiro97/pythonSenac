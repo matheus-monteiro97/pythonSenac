{
 "cells": [
  {
   "cell_type": "code",
   "execution_count": 31,
   "metadata": {},
   "outputs": [
    {
     "name": "stdout",
     "output_type": "stream",
     "text": [
      "Sua letra é a e ela é vogal.\n"
     ]
    }
   ],
   "source": [
    "# Questão 1: Primeiro armazenei as vogais em um array, seja maiuscula e minuscula. \n",
    "vogais= ['a', 'A', 'e', 'E', 'i', 'I', 'o', 'O', 'u', 'U']\n",
    "\n",
    "letra = input('Digite uma letra para verificar se é vogal ou consoante')\n",
    "\n",
    "# Verifica se a quantidade de letras é igual a 1\n",
    "if len(letra) > 1:\n",
    "    print('Por favor, digite apenas uma letra')\n",
    "# Faz agora a verificação se é vogal ou consoante.\n",
    "elif letra in vogais:\n",
    "    print ('Sua letra é', letra, 'e ela é vogal.')\n",
    "else:\n",
    "    print('Sua letra é', letra, 'e ela é consoante')"
   ]
  },
  {
   "cell_type": "code",
   "execution_count": 32,
   "metadata": {},
   "outputs": [
    {
     "name": "stdout",
     "output_type": "stream",
     "text": [
      "Celular 1 é o mais barato e é o que você deve comprar, custando: 2000.0\n"
     ]
    }
   ],
   "source": [
    "# Questão 2: Pede os valores do celular.\n",
    "celular1= float(input('Digite o valor do primeiro celular'))\n",
    "celular2= float(input('Digite o valor do segundo celular'))\n",
    "celular3= float(input('Digite o valor do terceiro celular'))\n",
    "\n",
    "# Verifica 1 por vez, comparando com os outros 2, caso fuja da logica significa que pelo menos 2 possuem o mesmo valor. \n",
    "if celular1 < celular2 and celular1 < celular3:\n",
    "    print('Celular 1 é o mais barato e é o que você deve comprar, custando:', celular1)\n",
    "elif celular2 < celular1 and celular2 < celular3:\n",
    "    print('Celular 2 é o mais barato e é o que você deve comprar, custando:', celular2)\n",
    "elif celular3 < celular1 and celular3 < celular2:\n",
    "    print('Celular 3 é o mais barato e é o que você deve comprar, custando:', celular3)\n",
    "else:\n",
    "    print('Existem pelo menos 2 celulares com o mesmo preço')"
   ]
  },
  {
   "cell_type": "code",
   "execution_count": 33,
   "metadata": {},
   "outputs": [
    {
     "name": "stdout",
     "output_type": "stream",
     "text": [
      "3.0 2.0 1.0\n"
     ]
    }
   ],
   "source": [
    "# Questão 3: Leitura de três números\n",
    "num1 = float(input('Digite o primeiro número: '))\n",
    "num2 = float(input('Digite o segundo número: '))\n",
    "num3 = float(input('Digite o terceiro número: '))\n",
    "\n",
    "# Organização dos números em ordem decrescente\n",
    "# Ler os três números\n",
    "if num1 >= num2 >= num3:  # Verifica se num1 é o maior, depois num2 e num3\n",
    "    print(num1, num2, num3)\n",
    "elif num1 >= num3 >= num2:  # Verifica se num1 é o maior, depois num3 e num2\n",
    "    print(num1, num3, num2)\n",
    "elif num2 >= num1 >= num3:  # Verifica se num2 é o maior, depois num1 e num3\n",
    "    print(num2, num1, num3)\n",
    "elif num2 >= num3 >= num1:  # Verifica se num2 é o maior, depois num3 e num1\n",
    "    print(num2, num3, num1)\n",
    "elif num3 >= num1 >= num2:  # Verifica se num3 é o maior, depois num1 e num2\n",
    "    print(num3, num1, num2)\n",
    "else:  # Se nada for verdadeiro, num3 é o maior, depois num2 e num1\n",
    "    print(num3, num2, num1)\n",
    "\n"
   ]
  },
  {
   "cell_type": "code",
   "execution_count": 34,
   "metadata": {},
   "outputs": [
    {
     "name": "stdout",
     "output_type": "stream",
     "text": [
      "Bom dia\n"
     ]
    }
   ],
   "source": [
    "# Questão 4: letra para representando o turno.\n",
    "turno= input('Digite uma letra representando seu turno: M para matutino, V para vespertino e N para noturno')\n",
    "\n",
    "# Verifica cada letra de acordo com o turno, coloquei para verificação tanto maiuscula quanto minuscula.\n",
    "if turno == 'N' or turno == 'n':\n",
    "    print('Boa noite')\n",
    "elif turno == 'V' or turno == 'v':\n",
    "    print('Boa tarde')\n",
    "elif turno == 'M' or turno == 'm':\n",
    "    print('Bom dia')\n",
    "else:\n",
    "    print('Letra informada não condiz com as opções.')"
   ]
  },
  {
   "cell_type": "code",
   "execution_count": 35,
   "metadata": {},
   "outputs": [
    {
     "name": "stdout",
     "output_type": "stream",
     "text": [
      "Quinta-feira\n"
     ]
    }
   ],
   "source": [
    "# Questão 5: Ler o número do usuário\n",
    "numero = int(input(\"Digite um número de 1 a 7: \"))\n",
    "\n",
    "# Verifica o número e imprime o dia da semana correspondente\n",
    "if numero == 1:\n",
    "    print(\"Domingo\")\n",
    "elif numero == 2:\n",
    "    print(\"Segunda-feira\")\n",
    "elif numero == 3:\n",
    "    print(\"Terça-feira\")\n",
    "elif numero == 4:\n",
    "    print(\"Quarta-feira\")\n",
    "elif numero == 5:\n",
    "    print(\"Quinta-feira\")\n",
    "elif numero == 6:\n",
    "    print(\"Sexta-feira\")\n",
    "elif numero == 7:\n",
    "    print(\"Sábado\")\n",
    "else:\n",
    "    print(\"Número inválido. Por favor, digite um número de 1 a 7.\")\n"
   ]
  },
  {
   "cell_type": "code",
   "execution_count": 10,
   "metadata": {},
   "outputs": [
    {
     "name": "stdout",
     "output_type": "stream",
     "text": [
      "O aluno Matheus está com média: 10.0 e seu conceito é \"A\" na disciplina Codding\n"
     ]
    }
   ],
   "source": [
    "# Questão 6 \n",
    "\n",
    "# Recebe disciplina, nome de aluno, e as duas notas\n",
    "aluno= input('Digite o nome de seu aluno')\n",
    "disciplina= input('Digite o nome de sua disciplina')\n",
    "nota1 = float(input('Professor, digite a 1° nota'))\n",
    "nota2 = float(input('Professor, digite a 2° nota'))\n",
    "\n",
    "# Realização do cálculo de média. \n",
    "media= (nota1 + nota2) / 2\n",
    "\n",
    "# Verificação de media baseado nos conceitos fornecidos na questão. \n",
    "if media >= 9 and media <= 10:\n",
    "    print ('O aluno', aluno, 'está com média:', media, 'e seu conceito é \"A\" na disciplina', disciplina)\n",
    "elif media >= 7.5 and media <9:\n",
    "    print ('O aluno', aluno, 'está com média:', media, 'e seu conceito é \"B\" na disciplina', disciplina)\n",
    "elif media >= 6 and media < 7.5:\n",
    "    print ('O aluno', aluno, 'está com média:', media, 'e seu conceito é \"C\" na disciplina', disciplina)\n",
    "elif media >= 4 and media < 6:\n",
    "    print ('O aluno', aluno, 'está com média:', media, 'e seu conceito é \"D\" na disciplina', disciplina)\n",
    "elif media < 4 and media > 0:\n",
    "    print ('O aluno', aluno, 'está com média:', media, 'e seu conceito é \"E\" na disciplina', disciplina)\n",
    "else:\n",
    "    print ('Erro na média do aluno:', aluno, 'a média deve estar de 0 a 10 e no momento está:', media, 'na disciplina:', disciplina, \n",
    "           '! por favor digite a média novamente') #Caso a media seja diferente de 0 a 10, então imprimirá o else. "
   ]
  },
  {
   "cell_type": "code",
   "execution_count": 24,
   "metadata": {},
   "outputs": [
    {
     "name": "stdout",
     "output_type": "stream",
     "text": [
      "2024 é um ano bissexto.\n"
     ]
    }
   ],
   "source": [
    "#Questão 7 Ler o número correspondente a um ano\n",
    "ano = int(input('Digite o ano: '))\n",
    "\n",
    "# Verificar se é bissexto, ele é considerado se for divisvel por 4 e não seja divisel por 100, ou se ele for divisivel por 400.\n",
    "if (ano % 4 == 0 and ano % 100 != 0) or ano % 400 == 0:\n",
    "    print(ano, 'é um ano bissexto.')\n",
    "else:\n",
    "    print(ano, 'não é um ano bissexto.')\n"
   ]
  },
  {
   "cell_type": "code",
   "execution_count": 13,
   "metadata": {},
   "outputs": [
    {
     "name": "stdout",
     "output_type": "stream",
     "text": [
      "O resultado é: 5.2 este numero é impar , positivo , decimal\n"
     ]
    }
   ],
   "source": [
    "# Questão 8\n",
    "\n",
    "# Recebe os numeros e pede um inteiro para associar com a operação\n",
    "numero1= float(input('Digite o primeiro número'))\n",
    "numero2= float(input('Digite o segundo número'))\n",
    "operacao= int(input('Digite 1 para soma, 2 para subtração, 3 para multiplicação, 4 para divisão e 5 para exponenciação'))\n",
    "\n",
    "# Compara o resultado de operação para definir qual tipo de cálculo será feito. \n",
    "if operacao == 1:\n",
    "    result= numero1 + numero2\n",
    "elif operacao == 2:\n",
    "    result= numero1 - numero2\n",
    "elif operacao == 3:\n",
    "    result= numero1 * numero2\n",
    "elif operacao == 4 and numero1 > numero2:\n",
    "    result= numero1 / numero2\n",
    "elif operacao == 5:\n",
    "    result= numero1 ** numero2\n",
    "else:\n",
    "    print('Ocorreu algum problema com a operação, por favor, insira os dados novamente')\n",
    "\n",
    "# Seta como nulo, pois, a variavel será modificada ao entrar nas condições\n",
    "parOuImpar= None\n",
    "positivoOuNegativo= None\n",
    "inteiroOuDecimal= None\n",
    "\n",
    "# Verifica baseado no resto da divisão se é par ou impar\n",
    "if result % 2 == 0:\n",
    "    parOuImpar= 'par'\n",
    "else:\n",
    "    parOuImpar= 'impar'\n",
    "\n",
    "#Verifica se o numero é positivo ou negativo\n",
    "if result > 0:\n",
    "    positivoOuNegativo= 'positivo'\n",
    "else:\n",
    "    positivoOuNegativo= 'negativo'\n",
    "\n",
    "# Verifica se o numero é inteiro ou decimal.\n",
    "if result == int(result):\n",
    "    inteiroOuDecimal= 'inteiro'\n",
    "else:\n",
    "    inteiroOuDecimal= 'decimal'\n",
    "\n",
    "print('O resultado é:', result, 'este numero é', parOuImpar, ',', positivoOuNegativo, ',', inteiroOuDecimal)"
   ]
  },
  {
   "cell_type": "code",
   "execution_count": 29,
   "metadata": {},
   "outputs": [
    {
     "name": "stdout",
     "output_type": "stream",
     "text": [
      "Soma dos números: 50.0\n",
      "Média dos números: 10.0\n"
     ]
    }
   ],
   "source": [
    "# Questão 9\n",
    "\n",
    "#Criação de array para armazenamento dos numeros\n",
    "numeros = []\n",
    "\n",
    "# Repetição por 5 vezes para coletar 5 numeros e adicioná-los ao array\n",
    "for i in range(5):\n",
    "    numero = float(input('Digite o 5 números: '))\n",
    "    numeros.append(numero)\n",
    "\n",
    "# Inicia uma variavel soma em 0\n",
    "soma = 0\n",
    "\n",
    "# Percorre todo o array\n",
    "for num in numeros:\n",
    "    # Pega o numero do array, um por vez e faz a somatoria. \n",
    "    soma += num\n",
    "\n",
    "# A media é calculada pela soma dos numeros divididos por 5. \n",
    "media = soma / 5\n",
    "\n",
    "print('Soma dos números:', soma)\n",
    "print('Média dos números:', media)\n"
   ]
  },
  {
   "cell_type": "code",
   "execution_count": 10,
   "metadata": {},
   "outputs": [
    {
     "name": "stdout",
     "output_type": "stream",
     "text": [
      "Sua idade é 40 anos\n"
     ]
    }
   ],
   "source": [
    "# Questão 10: Pede a idade da pessoa \n",
    "idade= int(input('Digite sua idade'))\n",
    "\n",
    "# Verifica se é negativo ou maior que 150\n",
    "if idade > 150 or idade < 0:\n",
    "    print('Por favor, digite uma idade válida')\n",
    "else:\n",
    "    print('Sua idade é', idade, 'anos')"
   ]
  },
  {
   "cell_type": "code",
   "execution_count": 28,
   "metadata": {},
   "outputs": [
    {
     "name": "stdout",
     "output_type": "stream",
     "text": [
      "1 não é primo\n"
     ]
    }
   ],
   "source": [
    "# Questão 11: Pede um número para verificação\n",
    "number = int(input('Digite um número para verificar se é primo ou não: '))\n",
    "\n",
    "# Busca a raiz do número para calculo posterior.\n",
    "raiz = int(number ** 0.5)\n",
    "#Criação de variavel para verificação\n",
    "primo = True\n",
    "\n",
    "# Faz a repetição de 2 até a raiz do número, é adicionado um + 1 para garantir que a raiz também vai ser contada.\n",
    "for i in range(2, raiz + 1):\n",
    "\n",
    "    # Numero é primo quando ele não é divisivel por nenhum numero de 2 até sua raiz. \n",
    "    if number % i == 0:\n",
    "        primo = False # Se o IF der verdadeiro então ele não é primo\n",
    "        break\n",
    "# IF fora do escopo do FOR, pois, o primo fora está sendo igual a True. \n",
    "if primo and number > 1:  # Se primo for true e maior que 1 então é primo se não, joga para o ELSE. \n",
    "    print(number, 'é primo')\n",
    "else:\n",
    "    print(number, 'não é primo')"
   ]
  },
  {
   "cell_type": "code",
   "execution_count": 22,
   "metadata": {},
   "outputs": [
    {
     "name": "stdout",
     "output_type": "stream",
     "text": [
      "Maior temperatura: 10.0\n",
      "Menor temperatura: 10.0\n",
      "Média das temperaturas: 10.0\n"
     ]
    }
   ],
   "source": [
    "# Questão 12\n",
    "# Cria um array vazio\n",
    "temperaturas = []\n",
    "\n",
    "# Pede ao usuário para inserir 5 temperaturas, em temperatura tem que ser i + 1 porque o I inicia com 0\n",
    "for i in range(5):\n",
    "    temperatura = float(input(f'Digite a {i + 1} temperatura'))\n",
    "    temperaturas.append(temperatura)\n",
    "\n",
    "# Criação de variavel pedidas para a saída das informações. \n",
    "maior_temperatura = temperaturas[0]\n",
    "menor_temperatura = temperaturas[0]\n",
    "soma_temperaturas = 0\n",
    "\n",
    "# Calcula a maior, a menor e a soma das temperaturas\n",
    "for temperatura in temperaturas:\n",
    "    if temperatura > maior_temperatura:\n",
    "        maior_temperatura = temperatura\n",
    "    if temperatura < menor_temperatura:\n",
    "        menor_temperatura = temperatura\n",
    "    soma_temperaturas += temperatura\n",
    "\n",
    "# Calcula a média das temperaturas por 5 \n",
    "media_temperatura = soma_temperaturas / 5\n",
    "\n",
    "print('Maior temperatura:', maior_temperatura)\n",
    "print('Menor temperatura:' , menor_temperatura)\n",
    "print('Média das temperaturas:', media_temperatura)\n",
    "\n"
   ]
  },
  {
   "cell_type": "code",
   "execution_count": 37,
   "metadata": {},
   "outputs": [
    {
     "name": "stdout",
     "output_type": "stream",
     "text": [
      "280.0\n"
     ]
    }
   ],
   "source": [
    "#Questão 13\n",
    "\n",
    "#Criei um array vazio\n",
    "saldos= []\n",
    "\n",
    "# Repetição para armazenar saldo mensal para posterior soma e media anual.\n",
    "for i in range(12):\n",
    "    saldoMes= float(input(f'Digite seu saldo do mês {i+1}'))\n",
    "    saldos.append(saldoMes)\n",
    "\n",
    "somaSaldo= 0\n",
    "\n",
    "# Percorre a lista e soma os saldos dentro do array.\n",
    "for saldo in saldos:\n",
    "    somaSaldo += saldo\n",
    "\n",
    "#Saldo medio é igual a soma do saldo dividido por 12\n",
    "saldoMedio = somaSaldo /12\n",
    "credito= None\n",
    "\n",
    "# Verificação do credito de acordo com a média anual.\n",
    "if saldoMedio <= 200:\n",
    "    credito = 0\n",
    "elif saldoMedio >= 201 and saldoMedio <= 400:\n",
    "    credito= saldoMedio * 0.2\n",
    "elif saldoMedio >= 401 and saldoMedio <= 600:\n",
    "    credito= saldoMedio * 0.3\n",
    "else: \n",
    "    credito= saldoMedio * 0.4\n",
    "\n",
    "print('Seu saldo médio anual é de:', saldoMedio, 'e portanto seu crédito é de:', credito)"
   ]
  },
  {
   "cell_type": "code",
   "execution_count": 19,
   "metadata": {},
   "outputs": [
    {
     "name": "stdout",
     "output_type": "stream",
     "text": [
      "Matheus você não possui 65 anos ou mais, portanto, não pode se aposentar\n"
     ]
    }
   ],
   "source": [
    "# Questão 14\n",
    "\n",
    "# Pede o ano de nascimento e nome\n",
    "nome= input('Digite seu nome')\n",
    "anoNascimento= int(input('Digite o ano de seu nascimento'))\n",
    "\n",
    "\n",
    "# Como o critério é ter 65 anos ou mais, então, o usuário precisa nascer em 1959 ou antes. \n",
    "if anoNascimento <= 1959:\n",
    "    print(nome, 'você já possui 65 anos ou mais, portanto, pode se aposentar')\n",
    "else:\n",
    "    print(nome, 'você não possui 65 anos ou mais, portanto, não pode se aposentar')"
   ]
  },
  {
   "cell_type": "code",
   "execution_count": 29,
   "metadata": {},
   "outputs": [
    {
     "name": "stdout",
     "output_type": "stream",
     "text": [
      "Você ganha por hora trabalhada: 80.0 por dia você trabalha: 8 e por mês você trabalha: 24  dias isso gera de salario bruto: 15360.0 é descontado de seu salário o valor do sindicato: 460.79999999999995 e imposto de renda: 4224.0 portanto, seu salario liquido é: 10675.2 . Além disso, o FGTS referente a seu salário (Não descontado de você) é: 1689.6\n"
     ]
    }
   ],
   "source": [
    "#Questão 15\n",
    "\n",
    "#Recebe as informações necessária para a operação: valor da hora trabalhada, horas trabalhadas por dia e dias trabalhados por mês.\n",
    "valorHora= float(input('Qual o valor da sua hora trabalhada'))\n",
    "horaDia= int(input('Quantas horas você trabalha por dia'))\n",
    "diaTrabalhados= int(input('Quantos dias você trabalhou por mês'))\n",
    "\n",
    "# Salario bruto é a multiplicação de horas trabalhadas por dia e os dias trabalhados por mês\n",
    "salarioMes= (valorHora * horaDia) * diaTrabalhados\n",
    "\n",
    "# Armazena o valor da porcentagem pra multiplicação posterior.\n",
    "sindicato= salarioMes * 0.03\n",
    "fgts= salarioMes * 0.11\n",
    "impostoRenda= None\n",
    "\n",
    "#Condicional para verificar taxa do imposto de renda.\n",
    "if salarioMes <= 2112:\n",
    "    impostoRenda= 0\n",
    "elif salarioMes >= 2112.01 and salarioMes <= 2826.65:\n",
    "    impostoRenda= salarioMes * 0.075\n",
    "elif salarioMes >= 2826.66 and salarioMes <= 3751.05:\n",
    "    impostoRenda= salarioMes * 0.15\n",
    "elif salarioMes >= 3751.06 and salarioMes <= 4664.68:\n",
    "    impostoRenda= salarioMes * 0.225\n",
    "elif salarioMes >= 4664.69:\n",
    "    impostoRenda= salarioMes * 0.275\n",
    "else:\n",
    "    print('Por favor, insira os dados novamente')\n",
    "\n",
    "# Calculo de salário liquido que é menos o valor do sindicato e o valor do imposto de renda.\n",
    "salarioLiquido= salarioMes - sindicato - impostoRenda\n",
    "\n",
    "print('Você ganha por hora trabalhada:', valorHora, 'por dia você trabalha:', horaDia, 'e por mês você trabalha:', diaTrabalhados, ' dias',\n",
    "    'isso gera de salario bruto:', salarioMes, 'é descontado de seu salário o valor do sindicato:', sindicato, 'e imposto de renda:', impostoRenda,\n",
    "    'portanto, seu salario liquido é:', salarioLiquido, '. Além disso, o FGTS referente a seu salário (Não descontado de você) é:', fgts)\n",
    "\n",
    "\n"
   ]
  }
 ],
 "metadata": {
  "kernelspec": {
   "display_name": "Python 3",
   "language": "python",
   "name": "python3"
  },
  "language_info": {
   "codemirror_mode": {
    "name": "ipython",
    "version": 3
   },
   "file_extension": ".py",
   "mimetype": "text/x-python",
   "name": "python",
   "nbconvert_exporter": "python",
   "pygments_lexer": "ipython3",
   "version": "3.12.3"
  }
 },
 "nbformat": 4,
 "nbformat_minor": 2
}
