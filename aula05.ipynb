{
 "cells": [
  {
   "cell_type": "code",
   "execution_count": null,
   "metadata": {},
   "outputs": [],
   "source": [
    "# Criando lista\n",
    "minhaLista = [76, 92.3, \"oi\", True, 4, 76]\n",
    "\n",
    "# Inserir elementos no final\n",
    "minhaLista += [\"pitomba\", 76]\n",
    "\n",
    "# Inserir elemento na posição 3\n",
    "minhaLista = minhaLista[:3] + [\"Cibele\"] + minhaLista[3:]\n",
    "\n",
    "# Inserir elemento no inicio da lista\n",
    "minhaLista = [99] + minhaLista\n",
    "\n",
    "# Encontrar OI na lista\n",
    "if minhaLista[0] == 'oi':\n",
    "    print(minhaLista[0])\n",
    "elif minhaLista[1] == 'oi':\n",
    "    print(minhaLista[1])\n",
    "elif minhaLista[2] == 'oi':\n",
    "    print(minhaLista[2])\n",
    "elif minhaLista[3] == 'oi':\n",
    "    print(minhaLista[3])\n",
    "elif minhaLista[4] == 'oi':\n",
    "    print(minhaLista[4])\n",
    "elif minhaLista[5] == 'oi':\n",
    "    print(minhaLista[5])\n",
    "elif minhaLista[6] == 'oi':\n",
    "    print(minhaLista[6])\n",
    "elif minhaLista[7] == 'oi':\n",
    "    print(minhaLista[7])\n",
    "elif minhaLista[8] == 'oi':\n",
    "    print(minhaLista[8])\n",
    "elif minhaLista[9] == 'oi':\n",
    "    print(minhaLista[9])\n",
    "\n",
    "#remover True da lista\n",
    "minhaLista = minhaLista[:5] + minhaLista[6:]\n",
    "\n",
    "print(minhaLista)\n"
   ]
  }
 ],
 "metadata": {
  "language_info": {
   "name": "python"
  }
 },
 "nbformat": 4,
 "nbformat_minor": 2
}
