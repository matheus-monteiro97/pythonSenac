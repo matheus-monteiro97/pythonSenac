{
 "cells": [
  {
   "cell_type": "code",
   "execution_count": 2,
   "metadata": {},
   "outputs": [
    {
     "name": "stdout",
     "output_type": "stream",
     "text": [
      "Variavel da função multiplica: 20\n"
     ]
    }
   ],
   "source": [
    "varGlobal = 10\n",
    "\n",
    "def multiplica(num1, num2):\n",
    "\n",
    "    varLocal= num1 * num2\n",
    "\n",
    "    print ('Variavel da função multiplica:', varLocal)\n",
    "\n",
    "multiplica(5,4)"
   ]
  },
  {
   "cell_type": "code",
   "execution_count": 3,
   "metadata": {},
   "outputs": [
    {
     "name": "stdout",
     "output_type": "stream",
     "text": [
      "10\n",
      "21\n"
     ]
    }
   ],
   "source": [
    "varGlobal = 10\n",
    "def multiplicacao (n1, n2):\n",
    "    varGlobal = (n1 * n2)\n",
    "    print (varGlobal)\n",
    "print (varGlobal)\n",
    "\n",
    "multiplicacao (3,7)\n",
    "\n",
    "# Global: Variável que pode ser acessada em qualquer lugar da aplicação \n",
    "# Local: Variável que só pode ser usada dentro do escopo de determinada função"
   ]
  },
  {
   "cell_type": "code",
   "execution_count": 5,
   "metadata": {},
   "outputs": [
    {
     "name": "stdout",
     "output_type": "stream",
     "text": [
      "Parâmetro 0 Luquinhas\n",
      "Parâmetro 1 Madá\n",
      "Parâmetro 2 Gigio\n"
     ]
    }
   ],
   "source": [
    "def variosParametros (*parametros):\n",
    "    for n, item in enumerate (parametros):\n",
    "        print ('Parâmetro', n, item)\n",
    "    return\n",
    "\n",
    "variosParametros('Luquinhas', 'Madá', 'Gigio')"
   ]
  },
  {
   "cell_type": "code",
   "execution_count": 12,
   "metadata": {},
   "outputs": [],
   "source": [
    "def soma (nu1, nu2):\n",
    "    return nu1 + nu2\n",
    "\n",
    "def subtracao (nu1, nu2):\n",
    "    return nu1 - nu2\n",
    "\n",
    "def multiplicacao (nu1, nu2):\n",
    "    return nu1 * nu2\n",
    "\n",
    "def divisao (nu1, nu2):\n",
    "    return nu1 / nu2"
   ]
  },
  {
   "cell_type": "code",
   "execution_count": 17,
   "metadata": {},
   "outputs": [
    {
     "name": "stdout",
     "output_type": "stream",
     "text": [
      "+===================+\n",
      "| MENU DE OPERAÇÕES |\n",
      "| 1 - somar         |\n",
      "| 2 - subtracao     |\n",
      "| 3 - multiplicacao |\n",
      "| 4 - divisao       |\n",
      "| 0 - sair          |\n",
      "+===================+\n"
     ]
    }
   ],
   "source": [
    "while True:\n",
    "    print(\"+===================+\")\n",
    "    print(\"| MENU DE OPERAÇÕES |\")\n",
    "    print(\"| 1 - somar         |\")\n",
    "    print(\"| 2 - subtracao     |\")\n",
    "    print(\"| 3 - multiplicacao |\")\n",
    "    print(\"| 4 - divisao       |\")\n",
    "    print(\"| 0 - sair          |\")\n",
    "    print(\"+===================+\")\n",
    "\n",
    "    op = int(input('Digite um número dentro do menu de operações'))\n",
    "    if op ==0:\n",
    "        break\n",
    "    elif op < 0 or op > 4:\n",
    "        continue\n",
    "\n",
    "    nu1 = int(input(\"Primeiro número:\"))\n",
    "    nu2 = int(input(\"Segundo número:\"))\n",
    "\n",
    "    if op ==1:\n",
    "        print(\"O resultado da soma é:\", soma(nu1, nu2))\n",
    "\n",
    "    elif op ==2:\n",
    "        print(\"O resultado da subtracao é:\", subtracao(nu1, nu2))\n",
    "\n",
    "    elif op ==3:\n",
    "        print(\"O resultado da multiplicacao é:\", multiplicacao(nu1, nu2))\n",
    "\n",
    "    elif op ==4:\n",
    "        print(\"O resultado da divisao é:\", divisao(nu1, nu2))\n",
    "\n",
    "    else:\n",
    "        print (\"Número inválido, digite novamente\")\n",
    "        "
   ]
  }
 ],
 "metadata": {
  "kernelspec": {
   "display_name": "Python 3",
   "language": "python",
   "name": "python3"
  },
  "language_info": {
   "codemirror_mode": {
    "name": "ipython",
    "version": 3
   },
   "file_extension": ".py",
   "mimetype": "text/x-python",
   "name": "python",
   "nbconvert_exporter": "python",
   "pygments_lexer": "ipython3",
   "version": "3.11.9"
  }
 },
 "nbformat": 4,
 "nbformat_minor": 2
}
