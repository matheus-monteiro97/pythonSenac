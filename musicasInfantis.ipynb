{
 "cells": [
  {
   "cell_type": "code",
   "execution_count": 16,
   "metadata": {},
   "outputs": [
    {
     "name": "stdout",
     "output_type": "stream",
     "text": [
      "5 patinhos foram passear \n",
      " Além das montanhas Para brincar\n",
      " \n",
      " A mamãe gritou: Quá, quá, quá, quá \n",
      " Mas só 4 patinhos voltaram de lá\n",
      "4 patinhos foram passear \n",
      " Além das montanhas Para brincar\n",
      " \n",
      " A mamãe gritou: Quá, quá, quá, quá \n",
      " Mas só 3 patinhos voltaram de lá\n",
      "3 patinhos foram passear \n",
      " Além das montanhas Para brincar\n",
      " \n",
      " A mamãe gritou: Quá, quá, quá, quá \n",
      " Mas só 2 patinhos voltaram de lá\n",
      "2 patinhos foram passear \n",
      " Além das montanhas Para brincar \n",
      " A mamãe gritou: Quá, quá, quá, quá \n",
      " Mas 2 patinho voltou de lá\n",
      "2 patinhos foram passear \n",
      " Além das montanhas Para brincar\n",
      " \n",
      " A mamãe gritou: Quá, quá, quá, quá \n",
      " Mas só 1 patinhos voltaram de lá\n",
      "1 patinho foi passear \n",
      " Além das montanhas Para brincar \n",
      " A mamãe gritou: Quá, quá, quá, quá \n",
      " Mas nenhum patinho voltou de lá\n",
      "1 patinhos foram passear \n",
      " Além das montanhas Para brincar\n",
      " \n",
      " A mamãe gritou: Quá, quá, quá, quá \n",
      " Mas só 0 patinhos voltaram de lá\n"
     ]
    }
   ],
   "source": [
    "contador= 5\n",
    "\n",
    "while contador > 0:\n",
    "    if contador == 1:\n",
    "        print(f'{contador} patinho foi passear \\n Além das montanhas Para brincar \\n A mamãe gritou: Quá, quá, quá, quá \\n Mas nenhum patinho voltou de lá')\n",
    "    elif contador == 0:\n",
    "        print('A mamãe patinha foi procurar \\n Além das montanhas Na beira do mar \\n A mamãe gritou: Quá, quá, quá, quá E os cinco patinhos voltaram de lá')\n",
    "    print(f'{contador} patinhos foram passear \\n Além das montanhas Para brincar')\n",
    "    contador -= 1 \n",
    "    print(f' \\n A mamãe gritou: Quá, quá, quá, quá \\n Mas só {contador} patinhos voltaram de lá')\n",
    "\n",
    "    "
   ]
  },
  {
   "cell_type": "code",
   "execution_count": 19,
   "metadata": {},
   "outputs": [
    {
     "name": "stdout",
     "output_type": "stream",
     "text": [
      "Mariana conta 1 Mariana conta 1: é 1, é 1, é Ana Viva a Mariana, viva a Mariana\n",
      "Mariana conta 2 Mariana conta 2: é [1, 2] é Ana Viva a Mariana, viva a Mariana\n",
      "Mariana conta 3 Mariana conta 3: é [1, 2, 3] é Ana Viva a Mariana, viva a Mariana\n",
      "Mariana conta 4 Mariana conta 4: é [1, 2, 3, 4] é Ana Viva a Mariana, viva a Mariana\n",
      "Mariana conta 5 Mariana conta 5: é [1, 2, 3, 4, 5] é Ana Viva a Mariana, viva a Mariana\n",
      "Mariana conta 6 Mariana conta 6: é [1, 2, 3, 4, 5, 6] é Ana Viva a Mariana, viva a Mariana\n",
      "Mariana conta 7 Mariana conta 7: é [1, 2, 3, 4, 5, 6, 7] é Ana Viva a Mariana, viva a Mariana\n",
      "Mariana conta 8 Mariana conta 8: é [1, 2, 3, 4, 5, 6, 7, 8] é Ana Viva a Mariana, viva a Mariana\n",
      "Mariana conta 9 Mariana conta 9: é [1, 2, 3, 4, 5, 6, 7, 8, 9] é Ana Viva a Mariana, viva a Mariana\n",
      "Mariana conta 10 Mariana conta 10: é [1, 2, 3, 4, 5, 6, 7, 8, 9, 10] é Ana Viva a Mariana, viva a Mariana\n"
     ]
    }
   ],
   "source": [
    "# Questão 2\n",
    "num= [1,2,3,4,5,6,7,8,9,10]\n",
    "i= 1\n",
    "for i in num:\n",
    "    if i ==1:\n",
    "        print('Mariana conta 1 Mariana conta 1: é 1, é 1, é Ana Viva a Mariana, viva a Mariana')\n",
    "    else:\n",
    "        print(f'Mariana conta {i} Mariana conta {i}: é', num[0:i], 'é Ana Viva a Mariana, viva a Mariana')"
   ]
  },
  {
   "cell_type": "code",
   "execution_count": 38,
   "metadata": {},
   "outputs": [
    {
     "name": "stdout",
     "output_type": "stream",
     "text": [
      "1 elefante incomoda muita gente\n",
      "2 elefantes  incomodam incomodam muito mais!\n",
      "3 elefantes incomodam muita gente\n",
      "4 elefantes  incomodam incomodam incomodam incomodam muito mais!\n",
      "5 elefantes incomodam muita gente\n",
      "6 elefantes  incomodam incomodam incomodam incomodam incomodam incomodam muito mais!\n",
      "7 elefantes incomodam muita gente\n",
      "8 elefantes  incomodam incomodam incomodam incomodam incomodam incomodam incomodam incomodam muito mais!\n",
      "9 elefantes incomodam muita gente\n",
      "10 elefantes  incomodam incomodam incomodam incomodam incomodam incomodam incomodam incomodam incomodam incomodam muito mais!\n"
     ]
    }
   ],
   "source": [
    "#Questão 3\n",
    "\n",
    "palavra= ' incomodam'\n",
    "n = 1\n",
    "for n in [1,2,3,4,5,6,7,8,9,10]:\n",
    "    if n == 1:\n",
    "        print('1 elefante incomoda muita gente')\n",
    "    elif n % 2 == 0:\n",
    "        print(f'{n} elefantes', palavra * n, 'muito mais!')\n",
    "    else:\n",
    "        print(f'{n} elefantes incomodam muita gente')"
   ]
  }
 ],
 "metadata": {
  "kernelspec": {
   "display_name": "Python 3",
   "language": "python",
   "name": "python3"
  },
  "language_info": {
   "codemirror_mode": {
    "name": "ipython",
    "version": 3
   },
   "file_extension": ".py",
   "mimetype": "text/x-python",
   "name": "python",
   "nbconvert_exporter": "python",
   "pygments_lexer": "ipython3",
   "version": "3.11.9"
  }
 },
 "nbformat": 4,
 "nbformat_minor": 2
}
