{
 "cells": [
  {
   "cell_type": "code",
   "execution_count": 10,
   "metadata": {},
   "outputs": [
    {
     "name": "stdout",
     "output_type": "stream",
     "text": [
      "8.0\n"
     ]
    }
   ],
   "source": [
    "# Escolher numero e printar que número foi escolhido\n",
    "# numeroEscolhido = int (input(\"Escolha qualquer número inteiro\"))\n",
    "\n",
    "# print (\"O número escolhido foi:\" , numeroEscolhido)\n",
    "\n",
    "\n",
    "# Pedir ao usuario para digitar os dois numeros da operação\n",
    "# numeroEscolhido1 = float(input(\"Escolha o primeiro número da operação\"))\n",
    "# numeroEscolhido2 = float(input(\"Escolha o segundo número da operação\"))\n",
    "\n",
    "# Soma da Operação\n",
    "# soma = numeroEscolhido1 + numeroEscolhido2\n",
    "\n",
    "# Print da Operacao\n",
    "# print(soma)\n",
    "\n",
    "# Solicitar 3 Notas\n",
    "# nota1 = float(input(\"Insira a primeira nota\"))\n",
    "# nota2 = float(input(\"Insira a segunda nota\"))\n",
    "# nota3 = float(input(\"Insira a terceira nota\"))\n",
    "\n",
    "# Média de Notas\n",
    "# mediaNotas = (nota1 + nota2 + nota3) / 3\n",
    "\n",
    "# print(mediaNotas)\n",
    "\n",
    "\n",
    "# salarioHora = float(input(\"Qual seu salário por hora?\"))\n",
    "# horasDias = int(input(\"Insira o número de horas trabalhadas, caso não seja um número inteiro arredonde para cima\"))\n",
    "# qtdDias = int(input(\"Quantos dias você trabalhou este mês?\"))\n",
    "# salarioBruto = salarioHora * horasDias * qtdDias\n",
    "# descontoSalario = salarioBruto * 0.1\n",
    "# salarioLiquido = salarioBruto - descontoSalario\n",
    "\n",
    "# print(salarioLiquido)\n",
    "\n",
    "pesoPeixe = float(input(\"Digite a quantidade de peso por KG de peixes\"))\n",
    "\n",
    "if (pesoPeixe > 50):\n",
    "    multa = (pesoPeixe - 50) * 4\n",
    "    print(multa)\n",
    "else:\n",
    "    print (\"Não possui multa\")"
   ]
  }
 ],
 "metadata": {
  "kernelspec": {
   "display_name": "Python 3",
   "language": "python",
   "name": "python3"
  },
  "language_info": {
   "codemirror_mode": {
    "name": "ipython",
    "version": 3
   },
   "file_extension": ".py",
   "mimetype": "text/x-python",
   "name": "python",
   "nbconvert_exporter": "python",
   "pygments_lexer": "ipython3",
   "version": "3.11.9"
  }
 },
 "nbformat": 4,
 "nbformat_minor": 2
}
